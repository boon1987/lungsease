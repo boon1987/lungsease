{
 "cells": [
  {
   "cell_type": "code",
   "execution_count": 1,
   "id": "59a151a3-1481-42e2-85da-07cec7ba5417",
   "metadata": {},
   "outputs": [
    {
     "name": "stdout",
     "output_type": "stream",
     "text": [
      "Hit:1 https://packages.cloud.google.com/apt cloud-sdk InRelease\n",
      "Hit:2 http://archive.ubuntu.com/ubuntu focal InRelease                         \n",
      "Hit:3 http://security.ubuntu.com/ubuntu focal-security InRelease               \n",
      "Hit:4 http://archive.ubuntu.com/ubuntu focal-updates InRelease\n",
      "Hit:5 http://archive.ubuntu.com/ubuntu focal-backports InRelease\n",
      "Reading package lists... Done\n"
     ]
    }
   ],
   "source": [
    "!apt-get update"
   ]
  },
  {
   "cell_type": "code",
   "execution_count": 3,
   "id": "d1c1a419-995e-45d7-a578-f2d781336711",
   "metadata": {},
   "outputs": [
    {
     "name": "stdout",
     "output_type": "stream",
     "text": [
      "Reading package lists... Done\n",
      "Building dependency tree       \n",
      "Reading state information... Done\n",
      "The following additional packages will be installed:\n",
      "  libidn11 netbase\n",
      "The following NEW packages will be installed:\n",
      "  inetutils-ping libidn11 netbase\n",
      "0 upgraded, 3 newly installed, 0 to remove and 49 not upgraded.\n",
      "Need to get 120 kB of archives.\n",
      "After this operation, 657 kB of additional disk space will be used.\n",
      "Get:1 http://archive.ubuntu.com/ubuntu focal/main amd64 netbase all 6.1 [13.1 kB]\n",
      "Get:2 http://archive.ubuntu.com/ubuntu focal/main amd64 libidn11 amd64 1.33-2.2ubuntu2 [46.2 kB]\n",
      "Get:3 http://archive.ubuntu.com/ubuntu focal-updates/universe amd64 inetutils-ping amd64 2:1.9.4-11ubuntu0.1 [60.7 kB]\n",
      "Fetched 120 kB in 1s (97.5 kB/s)        \n",
      "debconf: unable to initialize frontend: Dialog\n",
      "debconf: (No usable dialog-like program is installed, so the dialog based frontend cannot be used. at /usr/share/perl5/Debconf/FrontEnd/Dialog.pm line 76, <> line 3.)\n",
      "debconf: falling back to frontend: Readline\n",
      "Selecting previously unselected package netbase.\n",
      "(Reading database ... 62546 files and directories currently installed.)\n",
      "Preparing to unpack .../archives/netbase_6.1_all.deb ...\n",
      "Unpacking netbase (6.1) ...\n",
      "Selecting previously unselected package libidn11:amd64.\n",
      "Preparing to unpack .../libidn11_1.33-2.2ubuntu2_amd64.deb ...\n",
      "Unpacking libidn11:amd64 (1.33-2.2ubuntu2) ...\n",
      "Selecting previously unselected package inetutils-ping.\n",
      "Preparing to unpack .../inetutils-ping_2%3a1.9.4-11ubuntu0.1_amd64.deb ...\n",
      "Unpacking inetutils-ping (2:1.9.4-11ubuntu0.1) ...\n",
      "Setting up libidn11:amd64 (1.33-2.2ubuntu2) ...\n",
      "Setting up netbase (6.1) ...\n",
      "Setting up inetutils-ping (2:1.9.4-11ubuntu0.1) ...\n",
      "Processing triggers for libc-bin (2.31-0ubuntu9.9) ...\n"
     ]
    }
   ],
   "source": [
    "!apt-get install inetutils-ping -y"
   ]
  },
  {
   "cell_type": "code",
   "execution_count": 4,
   "id": "c1a0771c-f1a6-49b7-a38e-b7fb36b73f3f",
   "metadata": {},
   "outputs": [
    {
     "name": "stdout",
     "output_type": "stream",
     "text": [
      "ping: unknown host\n"
     ]
    }
   ],
   "source": [
    "!ping http://gitlab.hpeic.lan/"
   ]
  }
 ],
 "metadata": {
  "kernelspec": {
   "display_name": "Python 3 (ipykernel)",
   "language": "python",
   "name": "python3"
  },
  "language_info": {
   "codemirror_mode": {
    "name": "ipython",
    "version": 3
   },
   "file_extension": ".py",
   "mimetype": "text/x-python",
   "name": "python",
   "nbconvert_exporter": "python",
   "pygments_lexer": "ipython3",
   "version": "3.8.16"
  }
 },
 "nbformat": 4,
 "nbformat_minor": 5
}
